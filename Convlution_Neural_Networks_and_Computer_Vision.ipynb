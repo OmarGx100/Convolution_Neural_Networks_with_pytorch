{
 "cells": [
  {
   "cell_type": "code",
   "execution_count": 1,
   "metadata": {},
   "outputs": [],
   "source": [
    "# Import Torch\n",
    "import torch \n",
    "from torch import nn\n",
    "from torch.utils.data import DataLoader\n",
    "from torch.utils.data import Dataset\n",
    "\n",
    "# Import Random\n",
    "import random\n",
    "\n",
    "# Import tqdm\n",
    "from tqdm import tqdm\n",
    "\n",
    "# Import Torchvision\n",
    "import torchvision\n",
    "from torchvision import datasets\n",
    "from torchvision import transforms\n",
    "from torchvision.transforms import ToTensor\n",
    "\n",
    "# Import matplotlib\n",
    "import matplotlib.pyplot as plt"
   ]
  },
  {
   "cell_type": "code",
   "execution_count": 2,
   "metadata": {},
   "outputs": [
    {
     "name": "stdout",
     "output_type": "stream",
     "text": [
      "2.1.1+cu121\n",
      "0.16.1+cu121\n"
     ]
    }
   ],
   "source": [
    "# checking for torch and torchvision versions\n",
    "print(torch.__version__)\n",
    "print(torchvision.__version__)"
   ]
  },
  {
   "cell_type": "code",
   "execution_count": 3,
   "metadata": {},
   "outputs": [],
   "source": [
    "# Getting our MNIST Data \n",
    "train_root = \"./FashonMNIST/train_data\"\n",
    "test_root = \"./FashonMNIST/test_data\"\n",
    "\n",
    "train_data = datasets.FashionMNIST(root= train_root,\n",
    "                                   train = True,\n",
    "                                   transform = ToTensor(),\n",
    "                                   target_transform = None,\n",
    "                                   download = False)\n",
    "\n",
    "test_data = datasets.FashionMNIST(root = test_root,\n",
    "                                  train = False,\n",
    "                                  transform = ToTensor(),\n",
    "                                  target_transform = None,\n",
    "                                  download = False)"
   ]
  },
  {
   "cell_type": "code",
   "execution_count": 4,
   "metadata": {},
   "outputs": [
    {
     "data": {
      "text/plain": [
       "['T-shirt/top',\n",
       " 'Trouser',\n",
       " 'Pullover',\n",
       " 'Dress',\n",
       " 'Coat',\n",
       " 'Sandal',\n",
       " 'Shirt',\n",
       " 'Sneaker',\n",
       " 'Bag',\n",
       " 'Ankle boot']"
      ]
     },
     "execution_count": 4,
     "metadata": {},
     "output_type": "execute_result"
    }
   ],
   "source": [
    "class_names = train_data.classes\n",
    "\n",
    "class_names"
   ]
  },
  {
   "cell_type": "code",
   "execution_count": 5,
   "metadata": {},
   "outputs": [
    {
     "data": {
      "text/plain": [
       "(60000, 10000)"
      ]
     },
     "execution_count": 5,
     "metadata": {},
     "output_type": "execute_result"
    }
   ],
   "source": [
    "len(train_data), len(test_data)"
   ]
  },
  {
   "cell_type": "code",
   "execution_count": 6,
   "metadata": {},
   "outputs": [
    {
     "data": {
      "image/png": "[encoded data removed]",
      "text/plain": [
       "<Figure size 200x200 with 1 Axes>"
      ]
     },
     "metadata": {},
     "output_type": "display_data"
    }
   ],
   "source": [
    "# setting the manual seed\n",
    "torch.manual_seed(42)\n",
    "\n",
    "# plot a random image from our dataset\n",
    "plt.figure(figsize = (2, 2))\n",
    "random_idx = torch.randint(0, len(train_data), size = [1]).item()\n",
    "\n",
    "\n",
    "image, label = train_data[random_idx]\n",
    "\n",
    "plt.imshow(image.squeeze(), cmap = 'gray')\n",
    "plt.title(class_names[label])\n",
    "plt.axis(\"off\")\n",
    "plt.show()"
   ]
  },
  {
   "cell_type": "code",
   "execution_count": 7,
   "metadata": {},
   "outputs": [],
   "source": [
    "# creating training and testing dataloaders \n",
    "BATCH_SIZE = 32\n",
    "train_data_loader = torch.utils.data.DataLoader(dataset = train_data,\n",
    "                                                batch_size = BATCH_SIZE,\n",
    "                                                shuffle = True,\n",
    "                                                num_workers = 4\n",
    "                                                )\n",
    "\n",
    "test_data_loader = torch.utils.data.DataLoader(dataset = test_data, \n",
    "                                               batch_size = BATCH_SIZE,\n",
    "                                               shuffle = True,\n",
    "                                               num_workers = 4)"
   ]
  },
  {
   "cell_type": "code",
   "execution_count": 8,
   "metadata": {},
   "outputs": [
    {
     "name": "stdout",
     "output_type": "stream",
     "text": [
      "Feature batch size : torch.Size([32, 1, 28, 28])\n",
      "label batch size : torch.Size([32])\n"
     ]
    },
    {
     "data": {
      "image/png": "[encoded data removed]",
      "text/plain": [
       "<Figure size 640x480 with 1 Axes>"
      ]
     },
     "metadata": {},
     "output_type": "display_data"
    }
   ],
   "source": [
    "train_features, train_labels = next(iter(train_data_loader))\n",
    "\n",
    "print(f\"Feature batch size : {train_features.size()}\")\n",
    "print(f\"label batch size : {train_labels.size()}\")\n",
    "\n",
    "img = train_features[0].squeeze()\n",
    "label = train_labels[0].item()\n",
    "\n",
    "plt.imshow(img, cmap = 'gray')\n",
    "plt.axis(\"OFF\")\n",
    "plt.title(class_names[label])\n",
    "plt.show()"
   ]
  },
  {
   "cell_type": "code",
   "execution_count": 9,
   "metadata": {},
   "outputs": [
    {
     "data": {
      "text/plain": [
       "torch.Size([1, 28, 28])"
      ]
     },
     "execution_count": 9,
     "metadata": {},
     "output_type": "execute_result"
    }
   ],
   "source": [
    "img.unsqueeze(0).size()"
   ]
  },
  {
   "cell_type": "code",
   "execution_count": 10,
   "metadata": {},
   "outputs": [],
   "source": [
    "# creating a small model and test what is happening \n",
    "conv_layer = nn.Conv2d(in_channels=1, out_channels= 10, kernel_size= 3, stride = 1)\n",
    "max_pool_layer = nn.MaxPool2d(kernel_size = 3)\n",
    "\n",
    "out_conv_layer = conv_layer(img.unsqueeze(0))\n",
    "out_max_pool_layer = max_pool_layer(out_conv_layer)\n"
   ]
  },
  {
   "cell_type": "code",
   "execution_count": 11,
   "metadata": {},
   "outputs": [
    {
     "name": "stdout",
     "output_type": "stream",
     "text": [
      "size before conv : torch.Size([1, 28, 28])\n",
      "\n",
      "Size after Conv2D layer : torch.Size([10, 26, 26])\n",
      "\n",
      "Size after MaxPooling Layer : torch.Size([10, 8, 8])\n"
     ]
    }
   ],
   "source": [
    "print(f\"size before conv : {img.unsqueeze(0).size()}\\n\")\n",
    "print(f\"Size after Conv2D layer : {out_conv_layer.size()}\\n\")\n",
    "print(f\"Size after MaxPooling Layer : {out_max_pool_layer.size()}\")"
   ]
  },
  {
   "cell_type": "code",
   "execution_count": 12,
   "metadata": {},
   "outputs": [],
   "source": [
    "# making device agnostic code and sending our data to the available device\n",
    "device = 'cuda' if torch.cuda.is_available() else 'cpu'"
   ]
  },
  {
   "cell_type": "code",
   "execution_count": 13,
   "metadata": {},
   "outputs": [
    {
     "data": {
      "text/plain": [
       "(torch.Size([32, 1, 28, 28]), torch.Size([32]))"
      ]
     },
     "execution_count": 13,
     "metadata": {},
     "output_type": "execute_result"
    }
   ],
   "source": [
    "x_1, y_1 = next(iter(train_data_loader))\n",
    "\n",
    "x_1.shape, y_1.shape"
   ]
  },
  {
   "cell_type": "code",
   "execution_count": 57,
   "metadata": {},
   "outputs": [],
   "source": [
    "# Functionalize Our evaluation method\n",
    "\n",
    "def eval_model(model : torch.nn.Module,\n",
    "               data_loader : DataLoader,\n",
    "               loss_fnc : torch.nn.Module,\n",
    "               accuracy_fn\n",
    "               ):\n",
    "    \"\"\" Returns a dictionary containing the results of model predicitons on data_loader \"\"\"\n",
    "    loss, accuracy = 0, 0\n",
    "    model.eval()\n",
    "    with torch.inference_mode():\n",
    "        for X, y in tqdm(data_loader):\n",
    "            #Make predicitons\n",
    "            y_preds = model(X)\n",
    "\n",
    "            #Accumelate the loss and accuracy values per batch\n",
    "            loss += loss_fnc(y_preds, y)\n",
    "            accuracy += accuracy_fn(y, y_preds.argmax(dim = 1))\n",
    "        # Scaling the loss and accuracy to find loss and accuracy per epoch\n",
    "        loss /= len(data_loader)\n",
    "        accuracy /= len(data_loader)\n",
    "    return {\"model_name\" : model.__class__.__name__,\n",
    "            \"model_loss\" : loss.item(),\n",
    "            \"model_accuracy\" : accuracy}"
   ]
  },
  {
   "cell_type": "code",
   "execution_count": 14,
   "metadata": {},
   "outputs": [],
   "source": [
    "# Building a Convolutional Neural Networks Model\n",
    "\n",
    "class FashionMNISTModelv3(nn.Module):\n",
    "    \"\"\"Model architecture that replicates the TinyVGG\n",
    "        model from CNN expainer website.\"\"\"\n",
    "    def __init__(self, inpute_shape, hidden_units, output_shape):\n",
    "        super().__init__()\n",
    "\n",
    "        self.conv_block1 = nn.Sequential(\n",
    "            nn.Conv2d(in_channels = inpute_shape,\n",
    "                      out_channels = hidden_units,\n",
    "                      kernel_size = (3,3), # length and hight of the filter\n",
    "                      stride = 1, # the shift after every convolution operation\n",
    "                      padding = 1 # pad the input image to keep the same dimension as output\n",
    "                      ),\n",
    "            nn.ReLU(),\n",
    "\n",
    "            nn.Conv2d(in_channels = hidden_units,\n",
    "                      out_channels = hidden_units,\n",
    "                      kernel_size = (3,3), # length and hight of the filter\n",
    "                      stride = 1, # the shift after every convolution operation\n",
    "                      padding = 1 # pad the input image to keep the same dimension as output\n",
    "                      ),\n",
    "            nn.ReLU(),\n",
    "            \n",
    "            nn.MaxPool2d(kernel_size = (3,3), # length and hight of the filter\n",
    "                      stride = 1) # the shift after every convolution operation        \n",
    "        )\n",
    "\n",
    "        self.conv_block2 = nn.Sequential(\n",
    "            nn.Conv2d(in_channels = hidden_units,\n",
    "                      out_channels = hidden_units,\n",
    "                      kernel_size = (3,3), # length and hight of the filter\n",
    "                      stride = 1, # the shift after every convolution operation\n",
    "                      padding = 1 # pad the input image to keep the same dimension as output\n",
    "                      ),\n",
    "            nn.ReLU(),\n",
    "\n",
    "            nn.Conv2d(in_channels = hidden_units,\n",
    "                      out_channels = hidden_units,\n",
    "                      kernel_size = (3,3), # length and hight of the filter\n",
    "                      stride = 1, # the shift after every convolution operation\n",
    "                      padding = 1 # pad the input image to keep the same dimension as output\n",
    "                      ),\n",
    "            nn.ReLU(),\n",
    "\n",
    "            nn.MaxPool2d(kernel_size = (3,3), # length and hight of the filter\n",
    "                      stride = 1) # the shift after every convolution operation        \n",
    "            )\n",
    "        \n",
    "        # self.conv_block3 = nn.Sequential(\n",
    "        #         nn.Conv2d(in_channels = hidden_units,\n",
    "        #                 out_channels = hidden_units,\n",
    "        #                 kernel_size = (3,3), # length and hight of the filter\n",
    "        #                 stride = 1, # the shift after every convolution operation\n",
    "        #                 padding = 1 # pad the input image to keep the same dimension as output\n",
    "        #                 ),\n",
    "        #         nn.ReLU(),\n",
    "\n",
    "        #         nn.Conv2d(in_channels = hidden_units,\n",
    "        #                 out_channels = hidden_units,\n",
    "        #                 kernel_size = (3,3), # length and hight of the filter\n",
    "        #                 stride = 1, # the shift after every convolution operation\n",
    "        #                 padding = 1 # pad the input image to keep the same dimension as output\n",
    "        #                 ),\n",
    "        #         nn.ReLU(),\n",
    "\n",
    "        #         nn.MaxPool2d(kernel_size = (3,3), # length and hight of the filter\n",
    "        #                 stride = 1) # the shift after every convolution operation        \n",
    "        #         )\n",
    "        \n",
    "        self.classifier = nn.Sequential(\n",
    "            nn.Flatten(),\n",
    "            nn.Linear(in_features = hidden_units * 24 * 24,\n",
    "                      out_features = output_shape),\n",
    "            #nn.Softmax(dim = 1)\n",
    "        )\n",
    "\n",
    "    def forward(self, x : torch.tensor)-> torch.tensor:\n",
    "        x = self.conv_block1(x)\n",
    "        # print(f\"shape of image after block1 : {x.shape}\")\n",
    "        x = self.conv_block2(x)\n",
    "        # print(f\"the shape of image after block2 : {x.shape}\")\n",
    "        # x = self.conv_block3(x)\n",
    "        # print(f\"shape of image after block3 : {x.shape}\")\n",
    "        x = self.classifier(x)\n",
    "        # print(f\"shape of image after classifier : {x.shape} \")\n",
    "        return x\n"
   ]
  },
  {
   "cell_type": "code",
   "execution_count": 15,
   "metadata": {},
   "outputs": [
    {
     "data": {
      "text/plain": [
       "FashionMNISTModelv3(\n",
       "  (conv_block1): Sequential(\n",
       "    (0): Conv2d(1, 10, kernel_size=(3, 3), stride=(1, 1), padding=(1, 1))\n",
       "    (1): ReLU()\n",
       "    (2): Conv2d(10, 10, kernel_size=(3, 3), stride=(1, 1), padding=(1, 1))\n",
       "    (3): ReLU()\n",
       "    (4): MaxPool2d(kernel_size=(3, 3), stride=1, padding=0, dilation=1, ceil_mode=False)\n",
       "  )\n",
       "  (conv_block2): Sequential(\n",
       "    (0): Conv2d(10, 10, kernel_size=(3, 3), stride=(1, 1), padding=(1, 1))\n",
       "    (1): ReLU()\n",
       "    (2): Conv2d(10, 10, kernel_size=(3, 3), stride=(1, 1), padding=(1, 1))\n",
       "    (3): ReLU()\n",
       "    (4): MaxPool2d(kernel_size=(3, 3), stride=1, padding=0, dilation=1, ceil_mode=False)\n",
       "  )\n",
       "  (classifier): Sequential(\n",
       "    (0): Flatten(start_dim=1, end_dim=-1)\n",
       "    (1): Linear(in_features=5760, out_features=10, bias=True)\n",
       "  )\n",
       ")"
      ]
     },
     "execution_count": 15,
     "metadata": {},
     "output_type": "execute_result"
    }
   ],
   "source": [
    "model_0 = FashionMNISTModelv3(inpute_shape = 1,\n",
    "                              hidden_units = 10,\n",
    "                              output_shape = 10)\n",
    "\n",
    "model_0.to(device)"
   ]
  },
  {
   "cell_type": "code",
   "execution_count": 16,
   "metadata": {},
   "outputs": [],
   "source": [
    "random_image_tensor  = torch.randn([1, 28, 28])"
   ]
  },
  {
   "cell_type": "code",
   "execution_count": 17,
   "metadata": {},
   "outputs": [
    {
     "data": {
      "text/plain": [
       "tensor([[-0.0212,  0.0112, -0.0889,  0.0511, -0.0472, -0.0238,  0.0274, -0.0923,\n",
       "          0.0481,  0.0185]], device='cuda:0', grad_fn=<AddmmBackward0>)"
      ]
     },
     "execution_count": 17,
     "metadata": {},
     "output_type": "execute_result"
    }
   ],
   "source": [
    "model_0(random_image_tensor.unsqueeze(0).to(device))"
   ]
  },
  {
   "cell_type": "markdown",
   "metadata": {},
   "source": [
    "## That's our model is working just fine now lets try to make a training loop and see weither the model is going to do well or not "
   ]
  },
  {
   "cell_type": "code",
   "execution_count": 18,
   "metadata": {},
   "outputs": [],
   "source": [
    "# Choosing loss function and optimzer\n",
    "from helper_functions import accuracy_fn\n",
    "\n",
    "loss_fnc = nn.CrossEntropyLoss()\n",
    "optimzer = torch.optim.SGD(params = model_0.parameters(),\n",
    "                           lr = 0.01)\n"
   ]
  },
  {
   "cell_type": "code",
   "execution_count": 19,
   "metadata": {},
   "outputs": [],
   "source": [
    "def train_step(model:nn.Module,\n",
    "               data_loader : DataLoader,\n",
    "               loss_fnc : torch.nn.Module,\n",
    "               optimzer : torch.optim.Optimizer,\n",
    "               accuracy_fn,\n",
    "               target_device :torch.device = device):\n",
    "    \"\"\" Perform a training step with model trying to learn on data_loader\"\"\"\n",
    "    train_loss, train_acc = 0, 0\n",
    "    # Model train\n",
    "    model.train()\n",
    "    # Add a loop to loop through the training batches\n",
    "    for X, y in data_loader:\n",
    "        # Sending our data into the used device \"GPU or CPU\"\n",
    "        X, y = X.to(target_device), y.to(target_device)\n",
    "        # Do the forward Path\n",
    "        y_pred = model(X)\n",
    "\n",
    "        #calculate the loss\n",
    "        loss = loss_fnc(y_pred, y)\n",
    "        train_loss += loss\n",
    "\n",
    "        #Calculating the training accuracy\n",
    "        train_acc += accuracy_fn(y, y_pred.argmax(dim = 1))\n",
    "\n",
    "        # optimzer zero grad\n",
    "        optimzer.zero_grad()\n",
    "\n",
    "        # loss backward\n",
    "        loss.backward()\n",
    "\n",
    "        # optimzer step\n",
    "        optimzer.step()\n",
    "    \n",
    "    # Dividing total train loss and train accuracy by length of train dataloader to get training loss and training accuracy per batch\n",
    "    train_loss /= len(data_loader)\n",
    "    train_acc /= len(data_loader)\n",
    "    # Print out what's happening \n",
    "    print(f\"Train Loss : {train_loss:.2f} | Train accuracy : {train_acc:.2f}%\")"
   ]
  },
  {
   "cell_type": "code",
   "execution_count": 20,
   "metadata": {},
   "outputs": [],
   "source": [
    "def test_step(\n",
    "             model : torch.nn.Module,\n",
    "             data_loader : DataLoader,\n",
    "             loss_fnc :torch.nn.Module,\n",
    "             accuracy_fn,\n",
    "             target_device : torch.device = device):\n",
    "    \"\"\" Performs a testing loop step on model going over data_loader. \"\"\"\n",
    "    test_loss, test_acc = 0, 0\n",
    "    # Put our model in evaluation mode \n",
    "    model.eval()\n",
    "    # Turn on inference mode\n",
    "    with torch.inference_mode():\n",
    "        for X, y in tqdm(data_loader):\n",
    "\n",
    "            # Send the data to the target device\n",
    "            X, y = X.to(target_device), y.to(target_device)\n",
    "\n",
    "            # 1. Do the forward Path\n",
    "            test_pred = model(X)\n",
    "\n",
    "            # 2. Calculate the loss and test accuracy\n",
    "            test_loss += loss_fnc(test_pred, y)\n",
    "            test_acc += accuracy_fn(y, test_pred.argmax(dim = 1))\n",
    "        # 3. Calculate the average loss and accuracy through the batch\n",
    "        test_loss /= len(data_loader)\n",
    "        test_acc /= len(data_loader)\n",
    "        # 4. Printing out what's happening\n",
    "        print(f\"Test Loss : {test_loss:.4f} | Test accuracy : {test_acc:.2f}%\\n\")"
   ]
  },
  {
   "cell_type": "code",
   "execution_count": 21,
   "metadata": {},
   "outputs": [
    {
     "name": "stderr",
     "output_type": "stream",
     "text": [
      "  0%|          | 0/4 [00:00<?, ?it/s]"
     ]
    },
    {
     "name": "stdout",
     "output_type": "stream",
     "text": [
      "Epoch: 0\n",
      " --------\n",
      "Train Loss : 0.74 | Train accuracy : 72.99%\n"
     ]
    },
    {
     "name": "stderr",
     "output_type": "stream",
     "text": [
      "100%|██████████| 313/313 [00:05<00:00, 58.02it/s] \n",
      " 25%|██▌       | 1/4 [00:18<00:55, 18.62s/it]"
     ]
    },
    {
     "name": "stdout",
     "output_type": "stream",
     "text": [
      "Test Loss : 0.4881 | Test accuracy : 82.51%\n",
      "\n",
      "Epoch: 1\n",
      " --------\n",
      "Train Loss : 0.43 | Train accuracy : 84.28%\n"
     ]
    },
    {
     "name": "stderr",
     "output_type": "stream",
     "text": [
      "100%|██████████| 313/313 [00:04<00:00, 64.60it/s] \n",
      " 50%|█████     | 2/4 [00:34<00:34, 17.19s/it]"
     ]
    },
    {
     "name": "stdout",
     "output_type": "stream",
     "text": [
      "Test Loss : 0.4547 | Test accuracy : 82.60%\n",
      "\n",
      "Epoch: 2\n",
      " --------\n",
      "Train Loss : 0.38 | Train accuracy : 86.45%\n"
     ]
    },
    {
     "name": "stderr",
     "output_type": "stream",
     "text": [
      "100%|██████████| 313/313 [00:06<00:00, 50.92it/s] \n",
      " 75%|███████▌  | 3/4 [00:52<00:17, 17.42s/it]"
     ]
    },
    {
     "name": "stdout",
     "output_type": "stream",
     "text": [
      "Test Loss : 0.3867 | Test accuracy : 86.42%\n",
      "\n",
      "Epoch: 3\n",
      " --------\n",
      "Train Loss : 0.35 | Train accuracy : 87.49%\n"
     ]
    },
    {
     "name": "stderr",
     "output_type": "stream",
     "text": [
      "100%|██████████| 313/313 [00:06<00:00, 46.14it/s] \n",
      "100%|██████████| 4/4 [01:11<00:00, 17.99s/it]"
     ]
    },
    {
     "name": "stdout",
     "output_type": "stream",
     "text": [
      "Test Loss : 0.3480 | Test accuracy : 87.64%\n",
      "\n",
      "--------------------------------------------------\n",
      "\n",
      "the model took : 71.96 seconds to be trained\n",
      "\n"
     ]
    },
    {
     "name": "stderr",
     "output_type": "stream",
     "text": [
      "\n"
     ]
    }
   ],
   "source": [
    "torch.manual_seed(42)\n",
    "torch.cuda.manual_seed(42)\n",
    "\n",
    "# Measure our training time for our model \n",
    "from timeit import default_timer as timer\n",
    "train_time_start_model_2 = timer()\n",
    "\n",
    "# Train and test Model\n",
    "epochs = 4 \n",
    "for epoch in tqdm(range(epochs)):\n",
    "    print(f\"Epoch: {epoch}\\n --------\")\n",
    "    train_step(model = model_0,\n",
    "               data_loader = train_data_loader,\n",
    "               loss_fnc = loss_fnc,\n",
    "               optimzer=optimzer,\n",
    "               accuracy_fn = accuracy_fn,\n",
    "               target_device = device\n",
    "               )\n",
    "    \n",
    "    test_step(model = model_0,\n",
    "              data_loader = test_data_loader,\n",
    "              loss_fnc= loss_fnc,\n",
    "              accuracy_fn= accuracy_fn,\n",
    "              target_device= device\n",
    "              )\n",
    "train_time_end_model_2 = timer()\n",
    "total_train_time = train_time_end_model_2 - train_time_start_model_2\n",
    "print('-' * 50)\n",
    "print(f\"\\nthe model took : {total_train_time:.2f} seconds to be trained\\n\")\n",
    "    "
   ]
  },
  {
   "cell_type": "code",
   "execution_count": 22,
   "metadata": {},
   "outputs": [],
   "source": [
    "# Make and Evaluate random predictions\n",
    "\n",
    "def make_predictions(model : torch.nn.Module,\n",
    "                     data : list,\n",
    "                     device : torch.device = device):\n",
    "    pred_probs = []\n",
    "    # Passing the model to the target device\n",
    "    model.to(device)\n",
    "    # Setting the model into inference mode\n",
    "    model.eval()\n",
    "    with torch.inference_mode():\n",
    "        for sample in data:\n",
    "            # unsqueeze the sample to add a batch dimension and pass it to the target device\n",
    "            sample = torch.unsqueeze(sample, dim = 0).to(device)\n",
    "\n",
    "            # Forward path(model output raw logits)\n",
    "            pred_logit = model(sample)\n",
    "\n",
    "            # Going from raw logits to prediction probabilities\n",
    "            pred_prob = torch.softmax(pred_logit.squeeze(), dim = 0)\n",
    "\n",
    "            # Get pred_prob off the GPU for further calculations \n",
    "            pred_probs.append(pred_prob.cpu())\n",
    "            pred_labels = torch.stack(pred_probs).argmax(dim = 1)\n",
    "    return pred_labels "
   ]
  },
  {
   "cell_type": "code",
   "execution_count": 23,
   "metadata": {},
   "outputs": [
    {
     "data": {
      "text/plain": [
       "torch.Size([1, 28, 28])"
      ]
     },
     "execution_count": 23,
     "metadata": {},
     "output_type": "execute_result"
    }
   ],
   "source": [
    "# random.seed(42)\n",
    "\n",
    "test_samples = []\n",
    "test_labels = []\n",
    "\n",
    "for sample, label in random.sample(list(test_data), k = 9):\n",
    "    test_samples.append(sample)\n",
    "    test_labels.append(label)\n",
    "\n",
    "test_samples[0].shape"
   ]
  },
  {
   "cell_type": "code",
   "execution_count": 24,
   "metadata": {},
   "outputs": [
    {
     "data": {
      "image/png": "[encoded data removed]",
      "text/plain": [
       "<Figure size 640x480 with 1 Axes>"
      ]
     },
     "metadata": {},
     "output_type": "display_data"
    }
   ],
   "source": [
    "plt.imshow(test_samples[0].squeeze(), cmap='gray')\n",
    "plt.title(class_names[test_labels[0]])\n",
    "plt.axis('off')\n",
    "plt.show()"
   ]
  },
  {
   "cell_type": "code",
   "execution_count": 25,
   "metadata": {},
   "outputs": [],
   "source": [
    "# Make some predictions to test our model \n",
    "pred_probs_tensor = make_predictions(model_0, test_samples)"
   ]
  },
  {
   "cell_type": "code",
   "execution_count": 26,
   "metadata": {},
   "outputs": [
    {
     "data": {
      "text/plain": [
       "[5, 6, 0, 2, 1, 0, 6, 5, 4]"
      ]
     },
     "execution_count": 26,
     "metadata": {},
     "output_type": "execute_result"
    }
   ],
   "source": [
    "test_labels"
   ]
  },
  {
   "cell_type": "code",
   "execution_count": 27,
   "metadata": {},
   "outputs": [
    {
     "data": {
      "text/plain": [
       "tensor([5, 0, 0, 2, 1, 2, 6, 5, 4])"
      ]
     },
     "execution_count": 27,
     "metadata": {},
     "output_type": "execute_result"
    }
   ],
   "source": [
    "pred_probs_tensor"
   ]
  },
  {
   "cell_type": "code",
   "execution_count": 28,
   "metadata": {},
   "outputs": [
    {
     "data": {
      "text/plain": [
       "9"
      ]
     },
     "execution_count": 28,
     "metadata": {},
     "output_type": "execute_result"
    }
   ],
   "source": [
    "len(pred_probs_tensor)"
   ]
  },
  {
   "cell_type": "code",
   "execution_count": 29,
   "metadata": {},
   "outputs": [
    {
     "data": {
      "image/png": "[encoded data removed]",
      "text/plain": [
       "<Figure size 900x900 with 9 Axes>"
      ]
     },
     "metadata": {},
     "output_type": "display_data"
    }
   ],
   "source": [
    "#plotting random samples of our data \n",
    "plt.figure(figsize=(9,9))\n",
    "rows, colms = 3, 3\n",
    "for i, sample in enumerate(test_samples):\n",
    "    plt.subplot(rows, colms, i + 1)\n",
    "    pred_label = pred_probs_tensor[i]\n",
    "    truth_label = test_labels[i]\n",
    "    plt.imshow(sample.squeeze(), cmap = 'gray')\n",
    "    title_text = f\"{class_names[truth_label]} |{class_names[pred_label]}\"\n",
    "    if pred_label == truth_label:\n",
    "        plt.title(title_text, fontsize = 10, c = 'g')\n",
    "    else:\n",
    "        plt.title(title_text, fontsize = 10, c = 'r')\n",
    "    plt.axis('off')"
   ]
  },
  {
   "cell_type": "markdown",
   "metadata": {},
   "source": [
    "## plotting a confucsion matrix to see how are model is doing furtherly\n",
    "- to plot a confusion matrix we need to \n",
    "1. Make predictions with our trained model on the entire test data\n",
    "2. Make a confusion matrix using ` torchmetrics.ConfusionMatrix() `\n",
    "3. Plot the Confusion matrix using ` mlxtend.plotting.plot_confusion_matrix()`"
   ]
  },
  {
   "cell_type": "code",
   "execution_count": 44,
   "metadata": {},
   "outputs": [
    {
     "data": {
      "text/plain": [
       "tensor([3, 9, 7, 7, 3, 4, 6, 0, 4, 1], device='cuda:0')"
      ]
     },
     "execution_count": 44,
     "metadata": {},
     "output_type": "execute_result"
    }
   ],
   "source": [
    "# set manual seed , cuda seed\n",
    "torch.manual_seed(42)\n",
    "torch.cuda.manual_seed(42)\n",
    "\n",
    "batch_data_sample, label_sample = next(iter(test_data_loader))\n",
    "\n",
    "\n",
    "batch_data_sample, label_sample = batch_data_sample.to(device), label_sample.to(device)\n",
    "\n",
    "model_0.eval()\n",
    "with torch.inference_mode():\n",
    "    y_logits = model_0(batch_data_sample)\n",
    "    y_pred = torch.softmax(y_logits.squeeze(), dim = 0).argmax(dim = 1)\n",
    "\n",
    "y_pred[:10]\n"
   ]
  },
  {
   "cell_type": "code",
   "execution_count": 45,
   "metadata": {},
   "outputs": [
    {
     "data": {
      "text/plain": [
       "tensor([3, 9, 9, 7, 3, 2, 8, 0, 4, 1], device='cuda:0')"
      ]
     },
     "execution_count": 45,
     "metadata": {},
     "output_type": "execute_result"
    }
   ],
   "source": [
    "label_sample[:10]"
   ]
  },
  {
   "cell_type": "code",
   "execution_count": 46,
   "metadata": {},
   "outputs": [
    {
     "name": "stderr",
     "output_type": "stream",
     "text": [
      "Making Predictions....: 100%|██████████| 313/313 [00:06<00:00, 45.69it/s] \n"
     ]
    }
   ],
   "source": [
    "# 1. Make predictions with our trained model on the entire test data \n",
    "from tqdm.auto import tqdm\n",
    "\n",
    "y_preds = []\n",
    "y_true = []\n",
    "model_0.eval()\n",
    "with torch.inference_mode():\n",
    "    for X, y in tqdm(test_data_loader, desc=\"Making Predictions....\"):\n",
    "        # Send the data into the target device\n",
    "        X, y = X.to(device), y.to(device)\n",
    "        # Forward Path \n",
    "        y_logits = model_0(X)\n",
    "        # Turn prediction from logits -> prediction probabilties -> prediction labels\n",
    "        y_pred = torch.softmax(y_logits.squeeze(), dim = 0).argmax(dim = 1)\n",
    "        # Put predictions on CPU\n",
    "        y_preds.append(y_pred.cpu())\n",
    "        y_true.append(y.cpu())\n",
    "# print(y_pred)\n",
    "y_pred_tensor = torch.cat(y_preds)\n",
    "y_true_tensor = torch.cat(y_true)"
   ]
  },
  {
   "cell_type": "code",
   "execution_count": 31,
   "metadata": {},
   "outputs": [
    {
     "name": "stdout",
     "output_type": "stream",
     "text": [
      "mlxtend version : 0.23.1\n",
      "Requirement already satisfied: mlxtend in c:\\users\\omarm\\appdata\\local\\programs\\python\\python311\\lib\\site-packages (0.23.1)\n",
      "Requirement already satisfied: scipy>=1.2.1 in c:\\users\\omarm\\appdata\\local\\programs\\python\\python311\\lib\\site-packages (from mlxtend) (1.12.0)\n",
      "Requirement already satisfied: numpy>=1.16.2 in c:\\users\\omarm\\appdata\\local\\programs\\python\\python311\\lib\\site-packages (from mlxtend) (1.24.3)\n",
      "Requirement already satisfied: pandas>=0.24.2 in c:\\users\\omarm\\appdata\\local\\programs\\python\\python311\\lib\\site-packages (from mlxtend) (2.1.3)\n",
      "Requirement already satisfied: scikit-learn>=1.0.2 in c:\\users\\omarm\\appdata\\local\\programs\\python\\python311\\lib\\site-packages (from mlxtend) (1.4.0)\n",
      "Requirement already satisfied: matplotlib>=3.0.0 in c:\\users\\omarm\\appdata\\local\\programs\\python\\python311\\lib\\site-packages (from mlxtend) (3.8.2)\n",
      "Requirement already satisfied: joblib>=0.13.2 in c:\\users\\omarm\\appdata\\local\\programs\\python\\python311\\lib\\site-packages (from mlxtend) (1.3.2)\n",
      "Requirement already satisfied: contourpy>=1.0.1 in c:\\users\\omarm\\appdata\\local\\programs\\python\\python311\\lib\\site-packages (from matplotlib>=3.0.0->mlxtend) (1.2.0)\n",
      "Requirement already satisfied: cycler>=0.10 in c:\\users\\omarm\\appdata\\local\\programs\\python\\python311\\lib\\site-packages (from matplotlib>=3.0.0->mlxtend) (0.10.0)\n",
      "Requirement already satisfied: fonttools>=4.22.0 in c:\\users\\omarm\\appdata\\local\\programs\\python\\python311\\lib\\site-packages (from matplotlib>=3.0.0->mlxtend) (4.46.0)\n",
      "Requirement already satisfied: kiwisolver>=1.3.1 in c:\\users\\omarm\\appdata\\local\\programs\\python\\python311\\lib\\site-packages (from matplotlib>=3.0.0->mlxtend) (1.4.5)\n",
      "Requirement already satisfied: packaging>=20.0 in c:\\users\\omarm\\appdata\\local\\programs\\python\\python311\\lib\\site-packages (from matplotlib>=3.0.0->mlxtend) (23.2)\n",
      "Requirement already satisfied: pillow>=8 in c:\\users\\omarm\\appdata\\local\\programs\\python\\python311\\lib\\site-packages (from matplotlib>=3.0.0->mlxtend) (10.1.0)\n",
      "Requirement already satisfied: pyparsing>=2.3.1 in c:\\users\\omarm\\appdata\\local\\programs\\python\\python311\\lib\\site-packages (from matplotlib>=3.0.0->mlxtend) (3.1.1)\n",
      "Requirement already satisfied: python-dateutil>=2.7 in c:\\users\\omarm\\appdata\\roaming\\python\\python311\\site-packages (from matplotlib>=3.0.0->mlxtend) (2.8.2)\n",
      "Requirement already satisfied: pytz>=2020.1 in c:\\users\\omarm\\appdata\\local\\programs\\python\\python311\\lib\\site-packages (from pandas>=0.24.2->mlxtend) (2023.3.post1)\n",
      "Requirement already satisfied: tzdata>=2022.1 in c:\\users\\omarm\\appdata\\local\\programs\\python\\python311\\lib\\site-packages (from pandas>=0.24.2->mlxtend) (2023.3)\n",
      "Requirement already satisfied: threadpoolctl>=2.0.0 in c:\\users\\omarm\\appdata\\local\\programs\\python\\python311\\lib\\site-packages (from scikit-learn>=1.0.2->mlxtend) (3.2.0)\n",
      "Requirement already satisfied: six in c:\\users\\omarm\\appdata\\local\\programs\\python\\python311\\lib\\site-packages (from cycler>=0.10->matplotlib>=3.0.0->mlxtend) (1.16.0)\n",
      "mlxtend version : 0.23.1\n"
     ]
    },
    {
     "name": "stderr",
     "output_type": "stream",
     "text": [
      "\n",
      "[notice] A new release of pip is available: 23.3.1 -> 24.0\n",
      "[notice] To update, run: python.exe -m pip install --upgrade pip\n"
     ]
    }
   ],
   "source": [
    "# See if Required packages are installed and if not, install them...\n",
    "try:\n",
    "    import torchmetrics, mlxtend\n",
    "    print(f\"mlxtend version : {mlxtend.__version__}\")\n",
    "    assert int(mlxtend.__version__.split('.')[1] >= 19), \"mlxtend version must be 0.19.0 or higher\"\n",
    "except:\n",
    "    !pip install mlxtend\n",
    "    import torchmetrics, mlxtend\n",
    "    print(f\"mlxtend version : {mlxtend.__version__}\")"
   ]
  },
  {
   "cell_type": "code",
   "execution_count": 52,
   "metadata": {},
   "outputs": [
    {
     "data": {
      "image/png": "[encoded data removed]",
      "text/plain": [
       "<Figure size 1000x700 with 1 Axes>"
      ]
     },
     "metadata": {},
     "output_type": "display_data"
    }
   ],
   "source": [
    "from torchmetrics import ConfusionMatrix\n",
    "from mlxtend.plotting import plot_confusion_matrix\n",
    "\n",
    "#2. set up confusion matrix instance and compare predictions to target\n",
    "confmat = ConfusionMatrix(task = 'multiclass',num_classes = len(class_names))\n",
    "confmat_tensor = confmat(preds = y_pred_tensor,\n",
    "                         target = y_true_tensor)\n",
    "\n",
    "#3.plotting the confusion matrix\n",
    "fig, ax = plot_confusion_matrix(\n",
    "    conf_mat= confmat_tensor.numpy(), # because of matplotlib we need to convert it to numpy\n",
    "    class_names=class_names,\n",
    "    figsize=(10, 7)\n",
    ")"
   ]
  },
  {
   "cell_type": "code",
   "execution_count": 56,
   "metadata": {},
   "outputs": [
    {
     "name": "stdout",
     "output_type": "stream",
     "text": [
      "saving model into :Models\\03_Pytorch_computer_vision_model_2.pth\n"
     ]
    }
   ],
   "source": [
    "# save and load our model\n",
    "from pathlib import Path\n",
    "\n",
    "MODEL_PATH = Path(\"Models\")\n",
    "MODEL_PATH.mkdir(parents=True,\n",
    "                 exist_ok=True)\n",
    "\n",
    "MODEL_NAME = '03_Pytorch_computer_vision_model_2.pth'\n",
    "\n",
    "MODEL_SAVE_PATH = MODEL_PATH / MODEL_NAME\n",
    "\n",
    "# saving model state dict\n",
    "print(f\"saving model into :{MODEL_SAVE_PATH}\")\n",
    "torch.save(obj= model_0.state_dict(), f = MODEL_SAVE_PATH)"
   ]
  },
  {
   "cell_type": "code",
   "execution_count": 59,
   "metadata": {},
   "outputs": [
    {
     "name": "stderr",
     "output_type": "stream",
     "text": [
      "100%|██████████| 313/313 [00:11<00:00, 27.20it/s]\n"
     ]
    },
    {
     "data": {
      "text/plain": [
       "{'model_name': 'FashionMNISTModelv3',\n",
       " 'model_loss': 0.3485640287399292,\n",
       " 'model_accuracy': 87.60982428115015}"
      ]
     },
     "execution_count": 59,
     "metadata": {},
     "output_type": "execute_result"
    }
   ],
   "source": [
    "# loading our model \n",
    "torch.manual_seed(42)\n",
    "\n",
    "\n",
    "model_preloaded = FashionMNISTModelv3(inpute_shape=1,\n",
    "                                      hidden_units=10,\n",
    "                                      output_shape=10\n",
    "                                      )\n",
    "\n",
    "# loading the state dict where is saved inside the MODEL_SAVE_PATH\n",
    "model_preloaded.load_state_dict(torch.load(f = MODEL_SAVE_PATH))\n",
    "\n",
    "# Evaluation our loaded model\n",
    "\n",
    "model_preloaded_results = eval_model(model_preloaded,\n",
    "                                     data_loader = test_data_loader,\n",
    "                                     loss_fnc=loss_fnc,\n",
    "                                     accuracy_fn= accuracy_fn)\n",
    "\n",
    "\n",
    "model_preloaded_results"
   ]
  },
  {
   "cell_type": "code",
   "execution_count": 63,
   "metadata": {},
   "outputs": [
    {
     "name": "stderr",
     "output_type": "stream",
     "text": [
      "100%|██████████| 313/313 [00:10<00:00, 29.70it/s]\n"
     ]
    },
    {
     "data": {
      "text/plain": [
       "{'model_name': 'FashionMNISTModelv3',\n",
       " 'model_loss': 0.34870645403862,\n",
       " 'model_accuracy': 87.60982428115015}"
      ]
     },
     "execution_count": 63,
     "metadata": {},
     "output_type": "execute_result"
    }
   ],
   "source": [
    "# comparing our loaded model to the original one \n",
    "model_0_result = eval_model(model_0.cpu(),\n",
    "                            data_loader = test_data_loader,\n",
    "                            loss_fnc=loss_fnc,\n",
    "                            accuracy_fn= accuracy_fn)\n",
    "\n",
    "model_0_result"
   ]
  },
  {
   "cell_type": "code",
   "execution_count": 68,
   "metadata": {},
   "outputs": [
    {
     "data": {
      "text/plain": [
       "tensor(True)"
      ]
     },
     "execution_count": 68,
     "metadata": {},
     "output_type": "execute_result"
    }
   ],
   "source": [
    "# check if models results are close to each other \n",
    "torch.isclose(torch.tensor(model_0_result['model_loss']),\n",
    "              torch.tensor(model_preloaded_results['model_loss']),\n",
    "              rtol = 1e-3)"
   ]
  },
  {
   "cell_type": "code",
   "execution_count": null,
   "metadata": {},
   "outputs": [],
   "source": []
  }
 ],
 "metadata": {
  "kernelspec": {
   "display_name": "Python 3",
   "language": "python",
   "name": "python3"
  },
  "language_info": {
   "codemirror_mode": {
    "name": "ipython",
    "version": 3
   },
   "file_extension": ".py",
   "mimetype": "text/x-python",
   "name": "python",
   "nbconvert_exporter": "python",
   "pygments_lexer": "ipython3",
   "version": "3.11.6"
  }
 },
 "nbformat": 4,
 "nbformat_minor": 2
}
